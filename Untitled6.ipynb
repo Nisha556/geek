{
 "cells": [
  {
   "cell_type": "code",
   "execution_count": 12,
   "metadata": {},
   "outputs": [
    {
     "name": "stdout",
     "output_type": "stream",
     "text": [
      "[4.58, 2.46, 30.54]\n"
     ]
    }
   ],
   "source": [
    "input=[1.0,2.0,3.0,2.5]\n",
    "weights1=[0.2,0.8,-0.5,1.0]\n",
    "weights2=[0.5,-0.91,0.26,-0.5]\n",
    "weights3=[-.26,-0.27,0.17,0.87]\n",
    "bias1=2.0\n",
    "bias2=3.0\n",
    "bias3=0.5\n",
    "output= [input[0]*weights1[0]+input[1]*weights1[1]+input[2]*weights2[2]+bias1,\n",
    "        input[0]*weights2[0]+input[1]*weights2[1]+input[2]*weights2[2]+bias2,\n",
    "        input[0]*weights3[0]+input[1]*weights[1]+input[2]*weights[2]+bias3]\n",
    "print(output)\n",
    "      "
   ]
  },
  {
   "cell_type": "code",
   "execution_count": 1,
   "metadata": {},
   "outputs": [
    {
     "name": "stdout",
     "output_type": "stream",
     "text": [
      "35.7\n"
     ]
    }
   ],
   "source": [
    "input =[1.2,5.1,2.1]\n",
    "weights=[3.1,2.1,8.7]\n",
    "bias=3\n",
    "output= input[0]*weights[0]+ input[1]*weights[1]+input[2]*weights[2]+bias\n",
    "print(output)"
   ]
  },
  {
   "cell_type": "code",
   "execution_count": null,
   "metadata": {},
   "outputs": [],
   "source": []
  },
  {
   "cell_type": "code",
   "execution_count": null,
   "metadata": {},
   "outputs": [],
   "source": []
  }
 ],
 "metadata": {
  "kernelspec": {
   "display_name": "Python 3",
   "language": "python",
   "name": "python3"
  },
  "language_info": {
   "codemirror_mode": {
    "name": "ipython",
    "version": 3
   },
   "file_extension": ".py",
   "mimetype": "text/x-python",
   "name": "python",
   "nbconvert_exporter": "python",
   "pygments_lexer": "ipython3",
   "version": "3.7.6"
  }
 },
 "nbformat": 4,
 "nbformat_minor": 4
}
